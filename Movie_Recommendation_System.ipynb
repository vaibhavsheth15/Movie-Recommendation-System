{
 "cells": [
  {
   "cell_type": "markdown",
   "id": "73d41355",
   "metadata": {},
   "source": [
    "# Movie Recommendation System"
   ]
  },
  {
   "cell_type": "markdown",
   "id": "ab82dadc",
   "metadata": {},
   "source": [
    "#### Importing Necessary Libraries"
   ]
  },
  {
   "cell_type": "code",
   "execution_count": 1,
   "id": "c5e066ce",
   "metadata": {},
   "outputs": [],
   "source": [
    "import pandas as pd\n",
    "import numpy as np\n",
    "import matplotlib.pyplot as plt\n",
    "import seaborn as sns\n",
    "import warnings\n",
    "warnings.filterwarnings('ignore')"
   ]
  },
  {
   "cell_type": "code",
   "execution_count": 8,
   "id": "6777340f",
   "metadata": {},
   "outputs": [
    {
     "name": "stdout",
     "output_type": "stream",
     "text": [
      "\n",
      "Movie Data :\n",
      "shape :  (3883, 3)\n"
     ]
    }
   ],
   "source": [
    "u_cols = ['movieId','title','genres']\n",
    "movie = pd.read_csv('movies.dat', sep='::', names=u_cols,encoding='latin-1', engine='python')\n",
    "print(\"\\nMovie Data :\")\n",
    "print(\"shape : \", movie.shape)"
   ]
  },
  {
   "cell_type": "code",
   "execution_count": 9,
   "id": "e18b950b-0588-4088-ac2b-df6fcce142ea",
   "metadata": {},
   "outputs": [
    {
     "data": {
      "text/html": [
       "<div>\n",
       "<style scoped>\n",
       "    .dataframe tbody tr th:only-of-type {\n",
       "        vertical-align: middle;\n",
       "    }\n",
       "\n",
       "    .dataframe tbody tr th {\n",
       "        vertical-align: top;\n",
       "    }\n",
       "\n",
       "    .dataframe thead th {\n",
       "        text-align: right;\n",
       "    }\n",
       "</style>\n",
       "<table border=\"1\" class=\"dataframe\">\n",
       "  <thead>\n",
       "    <tr style=\"text-align: right;\">\n",
       "      <th></th>\n",
       "      <th>movieId</th>\n",
       "      <th>title</th>\n",
       "      <th>genres</th>\n",
       "    </tr>\n",
       "  </thead>\n",
       "  <tbody>\n",
       "    <tr>\n",
       "      <th>0</th>\n",
       "      <td>1</td>\n",
       "      <td>Toy Story (1995)</td>\n",
       "      <td>Animation|Children's|Comedy</td>\n",
       "    </tr>\n",
       "    <tr>\n",
       "      <th>1</th>\n",
       "      <td>2</td>\n",
       "      <td>Jumanji (1995)</td>\n",
       "      <td>Adventure|Children's|Fantasy</td>\n",
       "    </tr>\n",
       "    <tr>\n",
       "      <th>2</th>\n",
       "      <td>3</td>\n",
       "      <td>Grumpier Old Men (1995)</td>\n",
       "      <td>Comedy|Romance</td>\n",
       "    </tr>\n",
       "    <tr>\n",
       "      <th>3</th>\n",
       "      <td>4</td>\n",
       "      <td>Waiting to Exhale (1995)</td>\n",
       "      <td>Comedy|Drama</td>\n",
       "    </tr>\n",
       "    <tr>\n",
       "      <th>4</th>\n",
       "      <td>5</td>\n",
       "      <td>Father of the Bride Part II (1995)</td>\n",
       "      <td>Comedy</td>\n",
       "    </tr>\n",
       "    <tr>\n",
       "      <th>5</th>\n",
       "      <td>6</td>\n",
       "      <td>Heat (1995)</td>\n",
       "      <td>Action|Crime|Thriller</td>\n",
       "    </tr>\n",
       "    <tr>\n",
       "      <th>6</th>\n",
       "      <td>7</td>\n",
       "      <td>Sabrina (1995)</td>\n",
       "      <td>Comedy|Romance</td>\n",
       "    </tr>\n",
       "    <tr>\n",
       "      <th>7</th>\n",
       "      <td>8</td>\n",
       "      <td>Tom and Huck (1995)</td>\n",
       "      <td>Adventure|Children's</td>\n",
       "    </tr>\n",
       "    <tr>\n",
       "      <th>8</th>\n",
       "      <td>9</td>\n",
       "      <td>Sudden Death (1995)</td>\n",
       "      <td>Action</td>\n",
       "    </tr>\n",
       "    <tr>\n",
       "      <th>9</th>\n",
       "      <td>10</td>\n",
       "      <td>GoldenEye (1995)</td>\n",
       "      <td>Action|Adventure|Thriller</td>\n",
       "    </tr>\n",
       "  </tbody>\n",
       "</table>\n",
       "</div>"
      ],
      "text/plain": [
       "   movieId                               title                        genres\n",
       "0        1                    Toy Story (1995)   Animation|Children's|Comedy\n",
       "1        2                      Jumanji (1995)  Adventure|Children's|Fantasy\n",
       "2        3             Grumpier Old Men (1995)                Comedy|Romance\n",
       "3        4            Waiting to Exhale (1995)                  Comedy|Drama\n",
       "4        5  Father of the Bride Part II (1995)                        Comedy\n",
       "5        6                         Heat (1995)         Action|Crime|Thriller\n",
       "6        7                      Sabrina (1995)                Comedy|Romance\n",
       "7        8                 Tom and Huck (1995)          Adventure|Children's\n",
       "8        9                 Sudden Death (1995)                        Action\n",
       "9       10                    GoldenEye (1995)     Action|Adventure|Thriller"
      ]
     },
     "execution_count": 9,
     "metadata": {},
     "output_type": "execute_result"
    }
   ],
   "source": [
    "movie.head(10)"
   ]
  },
  {
   "cell_type": "code",
   "execution_count": 17,
   "id": "b9e368a2",
   "metadata": {},
   "outputs": [
    {
     "name": "stdout",
     "output_type": "stream",
     "text": [
      "\n",
      "Ratings Data :\n",
      "shape :  (1000209, 4)\n"
     ]
    }
   ],
   "source": [
    "r_cols = ['user_id', 'movieId', 'rating', 'unix_timestamp']\n",
    "rating = pd.read_csv('ratings.dat', sep='::', names=r_cols,encoding='latin-1', engine='python')\n",
    "print(\"\\nRatings Data :\")\n",
    "print(\"shape : \", rating.shape)"
   ]
  },
  {
   "cell_type": "code",
   "execution_count": 18,
   "id": "c83fbe79",
   "metadata": {},
   "outputs": [
    {
     "name": "stdout",
     "output_type": "stream",
     "text": [
      "(3883, 3)\n",
      "(1000209, 4)\n"
     ]
    }
   ],
   "source": [
    "print(movie.shape)\n",
    "print(rating.shape)"
   ]
  },
  {
   "cell_type": "code",
   "execution_count": 19,
   "id": "94b1ad9b",
   "metadata": {},
   "outputs": [
    {
     "name": "stdout",
     "output_type": "stream",
     "text": [
      "<class 'pandas.core.frame.DataFrame'>\n",
      "RangeIndex: 3883 entries, 0 to 3882\n",
      "Data columns (total 3 columns):\n",
      " #   Column   Non-Null Count  Dtype \n",
      "---  ------   --------------  ----- \n",
      " 0   movieId  3883 non-null   int64 \n",
      " 1   title    3883 non-null   object\n",
      " 2   genres   3883 non-null   object\n",
      "dtypes: int64(1), object(2)\n",
      "memory usage: 91.1+ KB\n"
     ]
    }
   ],
   "source": [
    "movie.info()"
   ]
  },
  {
   "cell_type": "code",
   "execution_count": 20,
   "id": "38f68114",
   "metadata": {},
   "outputs": [
    {
     "name": "stdout",
     "output_type": "stream",
     "text": [
      "<class 'pandas.core.frame.DataFrame'>\n",
      "RangeIndex: 1000209 entries, 0 to 1000208\n",
      "Data columns (total 4 columns):\n",
      " #   Column          Non-Null Count    Dtype\n",
      "---  ------          --------------    -----\n",
      " 0   user_id         1000209 non-null  int64\n",
      " 1   movieId         1000209 non-null  int64\n",
      " 2   rating          1000209 non-null  int64\n",
      " 3   unix_timestamp  1000209 non-null  int64\n",
      "dtypes: int64(4)\n",
      "memory usage: 30.5 MB\n"
     ]
    }
   ],
   "source": [
    "rating.info()"
   ]
  },
  {
   "cell_type": "code",
   "execution_count": 21,
   "id": "57b88ef7",
   "metadata": {},
   "outputs": [
    {
     "data": {
      "text/html": [
       "<div>\n",
       "<style scoped>\n",
       "    .dataframe tbody tr th:only-of-type {\n",
       "        vertical-align: middle;\n",
       "    }\n",
       "\n",
       "    .dataframe tbody tr th {\n",
       "        vertical-align: top;\n",
       "    }\n",
       "\n",
       "    .dataframe thead th {\n",
       "        text-align: right;\n",
       "    }\n",
       "</style>\n",
       "<table border=\"1\" class=\"dataframe\">\n",
       "  <thead>\n",
       "    <tr style=\"text-align: right;\">\n",
       "      <th></th>\n",
       "      <th>movieId</th>\n",
       "    </tr>\n",
       "  </thead>\n",
       "  <tbody>\n",
       "    <tr>\n",
       "      <th>count</th>\n",
       "      <td>3883.000000</td>\n",
       "    </tr>\n",
       "    <tr>\n",
       "      <th>mean</th>\n",
       "      <td>1986.049446</td>\n",
       "    </tr>\n",
       "    <tr>\n",
       "      <th>std</th>\n",
       "      <td>1146.778349</td>\n",
       "    </tr>\n",
       "    <tr>\n",
       "      <th>min</th>\n",
       "      <td>1.000000</td>\n",
       "    </tr>\n",
       "    <tr>\n",
       "      <th>25%</th>\n",
       "      <td>982.500000</td>\n",
       "    </tr>\n",
       "    <tr>\n",
       "      <th>50%</th>\n",
       "      <td>2010.000000</td>\n",
       "    </tr>\n",
       "    <tr>\n",
       "      <th>75%</th>\n",
       "      <td>2980.500000</td>\n",
       "    </tr>\n",
       "    <tr>\n",
       "      <th>max</th>\n",
       "      <td>3952.000000</td>\n",
       "    </tr>\n",
       "  </tbody>\n",
       "</table>\n",
       "</div>"
      ],
      "text/plain": [
       "           movieId\n",
       "count  3883.000000\n",
       "mean   1986.049446\n",
       "std    1146.778349\n",
       "min       1.000000\n",
       "25%     982.500000\n",
       "50%    2010.000000\n",
       "75%    2980.500000\n",
       "max    3952.000000"
      ]
     },
     "execution_count": 21,
     "metadata": {},
     "output_type": "execute_result"
    }
   ],
   "source": [
    "movie.describe()"
   ]
  },
  {
   "cell_type": "code",
   "execution_count": 22,
   "id": "b4a67a2f",
   "metadata": {},
   "outputs": [
    {
     "data": {
      "text/html": [
       "<div>\n",
       "<style scoped>\n",
       "    .dataframe tbody tr th:only-of-type {\n",
       "        vertical-align: middle;\n",
       "    }\n",
       "\n",
       "    .dataframe tbody tr th {\n",
       "        vertical-align: top;\n",
       "    }\n",
       "\n",
       "    .dataframe thead th {\n",
       "        text-align: right;\n",
       "    }\n",
       "</style>\n",
       "<table border=\"1\" class=\"dataframe\">\n",
       "  <thead>\n",
       "    <tr style=\"text-align: right;\">\n",
       "      <th></th>\n",
       "      <th>title</th>\n",
       "      <th>genres</th>\n",
       "    </tr>\n",
       "  </thead>\n",
       "  <tbody>\n",
       "    <tr>\n",
       "      <th>count</th>\n",
       "      <td>3883</td>\n",
       "      <td>3883</td>\n",
       "    </tr>\n",
       "    <tr>\n",
       "      <th>unique</th>\n",
       "      <td>3883</td>\n",
       "      <td>301</td>\n",
       "    </tr>\n",
       "    <tr>\n",
       "      <th>top</th>\n",
       "      <td>Toy Story (1995)</td>\n",
       "      <td>Drama</td>\n",
       "    </tr>\n",
       "    <tr>\n",
       "      <th>freq</th>\n",
       "      <td>1</td>\n",
       "      <td>843</td>\n",
       "    </tr>\n",
       "  </tbody>\n",
       "</table>\n",
       "</div>"
      ],
      "text/plain": [
       "                   title genres\n",
       "count               3883   3883\n",
       "unique              3883    301\n",
       "top     Toy Story (1995)  Drama\n",
       "freq                   1    843"
      ]
     },
     "execution_count": 22,
     "metadata": {},
     "output_type": "execute_result"
    }
   ],
   "source": [
    "movie.describe(include='O')"
   ]
  },
  {
   "cell_type": "code",
   "execution_count": 23,
   "id": "76756b98",
   "metadata": {},
   "outputs": [],
   "source": [
    "df = pd.merge(movie,rating,on='movieId')"
   ]
  },
  {
   "cell_type": "code",
   "execution_count": 24,
   "id": "a8b78077",
   "metadata": {},
   "outputs": [
    {
     "data": {
      "text/plain": [
       "movieId           0\n",
       "title             0\n",
       "genres            0\n",
       "user_id           0\n",
       "rating            0\n",
       "unix_timestamp    0\n",
       "dtype: int64"
      ]
     },
     "execution_count": 24,
     "metadata": {},
     "output_type": "execute_result"
    }
   ],
   "source": [
    "df.isnull().sum()"
   ]
  },
  {
   "cell_type": "code",
   "execution_count": 25,
   "id": "dc600977",
   "metadata": {},
   "outputs": [
    {
     "data": {
      "text/plain": [
       "3883"
      ]
     },
     "execution_count": 25,
     "metadata": {},
     "output_type": "execute_result"
    }
   ],
   "source": [
    "movie.movieId.nunique()"
   ]
  },
  {
   "cell_type": "code",
   "execution_count": 27,
   "id": "c4f9fec8",
   "metadata": {},
   "outputs": [
    {
     "data": {
      "text/plain": [
       "6040"
      ]
     },
     "execution_count": 27,
     "metadata": {},
     "output_type": "execute_result"
    }
   ],
   "source": [
    "rating.user_id.nunique()"
   ]
  },
  {
   "cell_type": "code",
   "execution_count": 28,
   "id": "30e1e1a0",
   "metadata": {},
   "outputs": [
    {
     "name": "stdout",
     "output_type": "stream",
     "text": [
      "(3883, 3)\n",
      "(1000209, 4)\n",
      "(1000209, 6)\n"
     ]
    }
   ],
   "source": [
    "print(movie.shape)\n",
    "print(rating.shape)\n",
    "print(df.shape)"
   ]
  },
  {
   "cell_type": "markdown",
   "id": "f363c08c",
   "metadata": {},
   "source": [
    "From the above three lines of code output, we came to know that there are 10329 unique movies and 668 unique users are there to rate the movies. So, the final merged dataframe contains 105339 rows because a single movie can be rated by many users or viceversa. So that the length of rows increased."
   ]
  },
  {
   "cell_type": "code",
   "execution_count": 29,
   "id": "42e455c9",
   "metadata": {
    "scrolled": true
   },
   "outputs": [
    {
     "data": {
      "text/html": [
       "<div>\n",
       "<style scoped>\n",
       "    .dataframe tbody tr th:only-of-type {\n",
       "        vertical-align: middle;\n",
       "    }\n",
       "\n",
       "    .dataframe tbody tr th {\n",
       "        vertical-align: top;\n",
       "    }\n",
       "\n",
       "    .dataframe thead th {\n",
       "        text-align: right;\n",
       "    }\n",
       "</style>\n",
       "<table border=\"1\" class=\"dataframe\">\n",
       "  <thead>\n",
       "    <tr style=\"text-align: right;\">\n",
       "      <th></th>\n",
       "      <th>movieId</th>\n",
       "      <th>title</th>\n",
       "      <th>genres</th>\n",
       "      <th>user_id</th>\n",
       "      <th>rating</th>\n",
       "      <th>unix_timestamp</th>\n",
       "    </tr>\n",
       "  </thead>\n",
       "  <tbody>\n",
       "    <tr>\n",
       "      <th>0</th>\n",
       "      <td>1</td>\n",
       "      <td>Toy Story (1995)</td>\n",
       "      <td>Animation|Children's|Comedy</td>\n",
       "      <td>1</td>\n",
       "      <td>5</td>\n",
       "      <td>978824268</td>\n",
       "    </tr>\n",
       "    <tr>\n",
       "      <th>1</th>\n",
       "      <td>1</td>\n",
       "      <td>Toy Story (1995)</td>\n",
       "      <td>Animation|Children's|Comedy</td>\n",
       "      <td>6</td>\n",
       "      <td>4</td>\n",
       "      <td>978237008</td>\n",
       "    </tr>\n",
       "    <tr>\n",
       "      <th>2</th>\n",
       "      <td>1</td>\n",
       "      <td>Toy Story (1995)</td>\n",
       "      <td>Animation|Children's|Comedy</td>\n",
       "      <td>8</td>\n",
       "      <td>4</td>\n",
       "      <td>978233496</td>\n",
       "    </tr>\n",
       "    <tr>\n",
       "      <th>3</th>\n",
       "      <td>1</td>\n",
       "      <td>Toy Story (1995)</td>\n",
       "      <td>Animation|Children's|Comedy</td>\n",
       "      <td>9</td>\n",
       "      <td>5</td>\n",
       "      <td>978225952</td>\n",
       "    </tr>\n",
       "    <tr>\n",
       "      <th>4</th>\n",
       "      <td>1</td>\n",
       "      <td>Toy Story (1995)</td>\n",
       "      <td>Animation|Children's|Comedy</td>\n",
       "      <td>10</td>\n",
       "      <td>5</td>\n",
       "      <td>978226474</td>\n",
       "    </tr>\n",
       "    <tr>\n",
       "      <th>5</th>\n",
       "      <td>1</td>\n",
       "      <td>Toy Story (1995)</td>\n",
       "      <td>Animation|Children's|Comedy</td>\n",
       "      <td>18</td>\n",
       "      <td>4</td>\n",
       "      <td>978154768</td>\n",
       "    </tr>\n",
       "    <tr>\n",
       "      <th>6</th>\n",
       "      <td>1</td>\n",
       "      <td>Toy Story (1995)</td>\n",
       "      <td>Animation|Children's|Comedy</td>\n",
       "      <td>19</td>\n",
       "      <td>5</td>\n",
       "      <td>978555994</td>\n",
       "    </tr>\n",
       "    <tr>\n",
       "      <th>7</th>\n",
       "      <td>1</td>\n",
       "      <td>Toy Story (1995)</td>\n",
       "      <td>Animation|Children's|Comedy</td>\n",
       "      <td>21</td>\n",
       "      <td>3</td>\n",
       "      <td>978139347</td>\n",
       "    </tr>\n",
       "    <tr>\n",
       "      <th>8</th>\n",
       "      <td>1</td>\n",
       "      <td>Toy Story (1995)</td>\n",
       "      <td>Animation|Children's|Comedy</td>\n",
       "      <td>23</td>\n",
       "      <td>4</td>\n",
       "      <td>978463614</td>\n",
       "    </tr>\n",
       "    <tr>\n",
       "      <th>9</th>\n",
       "      <td>1</td>\n",
       "      <td>Toy Story (1995)</td>\n",
       "      <td>Animation|Children's|Comedy</td>\n",
       "      <td>26</td>\n",
       "      <td>3</td>\n",
       "      <td>978130703</td>\n",
       "    </tr>\n",
       "  </tbody>\n",
       "</table>\n",
       "</div>"
      ],
      "text/plain": [
       "   movieId             title                       genres  user_id  rating  \\\n",
       "0        1  Toy Story (1995)  Animation|Children's|Comedy        1       5   \n",
       "1        1  Toy Story (1995)  Animation|Children's|Comedy        6       4   \n",
       "2        1  Toy Story (1995)  Animation|Children's|Comedy        8       4   \n",
       "3        1  Toy Story (1995)  Animation|Children's|Comedy        9       5   \n",
       "4        1  Toy Story (1995)  Animation|Children's|Comedy       10       5   \n",
       "5        1  Toy Story (1995)  Animation|Children's|Comedy       18       4   \n",
       "6        1  Toy Story (1995)  Animation|Children's|Comedy       19       5   \n",
       "7        1  Toy Story (1995)  Animation|Children's|Comedy       21       3   \n",
       "8        1  Toy Story (1995)  Animation|Children's|Comedy       23       4   \n",
       "9        1  Toy Story (1995)  Animation|Children's|Comedy       26       3   \n",
       "\n",
       "   unix_timestamp  \n",
       "0       978824268  \n",
       "1       978237008  \n",
       "2       978233496  \n",
       "3       978225952  \n",
       "4       978226474  \n",
       "5       978154768  \n",
       "6       978555994  \n",
       "7       978139347  \n",
       "8       978463614  \n",
       "9       978130703  "
      ]
     },
     "execution_count": 29,
     "metadata": {},
     "output_type": "execute_result"
    }
   ],
   "source": [
    "df.head(10)"
   ]
  },
  {
   "cell_type": "code",
   "execution_count": 30,
   "id": "998eb9ce",
   "metadata": {},
   "outputs": [
    {
     "data": {
      "image/png": "[encoded data removed]",
      "text/plain": [
       "<Figure size 600x400 with 1 Axes>"
      ]
     },
     "metadata": {},
     "output_type": "display_data"
    }
   ],
   "source": [
    "import seaborn as sns\n",
    "import matplotlib.pyplot as plt\n",
    "plt.figure(figsize=(6,4))\n",
    "plt.hist(x=df['rating'],bins=5,color='skyblue',edgecolor='black')\n",
    "plt.xlabel('Rating')\n",
    "plt.ylabel('Count / Frequency')\n",
    "plt.title('Distribution of movie ratings')\n",
    "\n",
    "plt.show()"
   ]
  },
  {
   "cell_type": "code",
   "execution_count": 31,
   "id": "2e3596b0",
   "metadata": {},
   "outputs": [],
   "source": [
    "all_genres = df['genres'].str.split('|').explode()\n",
    "unique_genres = all_genres.unique()\n",
    "# print(unique_genres)"
   ]
  },
  {
   "cell_type": "code",
   "execution_count": 46,
   "id": "68403df4-abef-458c-bb23-a1c1534a969a",
   "metadata": {},
   "outputs": [
    {
     "name": "stdin",
     "output_type": "stream",
     "text": [
      "Enter genre number:  11\n",
      "Minimum reviews:  200\n",
      "Number of recommendations:  5\n"
     ]
    },
    {
     "name": "stdout",
     "output_type": "stream",
     "text": [
      "Recommendations:                        title  average_rating  rating_count\n",
      "0  Young Frankenstein (1974)        4.250629          1193\n",
      "1              Psycho (1960)        4.218527          1263\n",
      "2               Alien (1979)        4.159585          2024\n",
      "3        Shining, The (1980)        4.104876          1087\n",
      "4                Jaws (1975)        4.089570          1697\n"
     ]
    }
   ],
   "source": [
    "# Function to filter by Genre with error handling\n",
    "def filter_by_genre(df, genre):\n",
    "    if genre not in unique_genres:\n",
    "        log_event('error', f\"Genre '{genre}' not found in available genres.\")\n",
    "        print(f\"Error: Genre '{genre}' not available. Please choose another genre.\")\n",
    "        return pd.DataFrame()  # Return an empty DataFrame if genre is invalid\n",
    "    return df[df['genres'].str.contains(genre, case=False, na=False)]\n",
    "\n",
    "# Example usage in the recommend_movies function\n",
    "def recommend_movies(genre, min_reviews, num_recommendations):\n",
    "    # Filter movies by genre\n",
    "    genre_movies = filter_by_genre(df, genre)\n",
    "    \n",
    "    if genre_movies.empty:\n",
    "        return None  # No recommendations if genre was invalid or empty\n",
    "\n",
    "    # Calculate popularity metrics\n",
    "    popularity = calculate_popularity(genre_movies)\n",
    "    \n",
    "    # Filter by minimum reviews threshold\n",
    "    filtered_popularity = filter_by_threshold(popularity, min_reviews)\n",
    "    \n",
    "    # Get top N recommendations\n",
    "    top_n = get_top_n_recommendations(filtered_popularity, num_recommendations)\n",
    "    \n",
    "    # Merge with movie titles\n",
    "    top_n = top_n.merge(movie[['movieId', 'title']], on='movieId')\n",
    "    \n",
    "    return top_n[['title', 'average_rating', 'rating_count']]\n",
    "\n",
    "# Try-catch for genre selection\n",
    "try:\n",
    "    genre_choice = int(input(\"Enter genre number: \"))\n",
    "    selected_genre = unique_genres[genre_choice - 1]\n",
    "    log_event('info', f\"Genre selected: {selected_genre}\")\n",
    "    \n",
    "    min_reviews = int(input('Minimum reviews: '))\n",
    "    num_recommendations = int(input('Number of recommendations: '))\n",
    "    recommendations = recommend_movies(selected_genre, min_reviews, num_recommendations)\n",
    "    \n",
    "    if recommendations is not None:\n",
    "        print(\"Recommendations:\", recommendations)\n",
    "    else:\n",
    "        log_event('info', \"No recommendations generated due to invalid genre.\")\n",
    "\n",
    "except ValueError as e:\n",
    "    log_event('error', f\"Input error: {e}\")\n"
   ]
  },
  {
   "cell_type": "markdown",
   "id": "f3d7db84",
   "metadata": {},
   "source": [
    "### <center><span style=\"color:green;\">Popularity Based Recommendation System</span></center>"
   ]
  },
  {
   "cell_type": "code",
   "execution_count": 33,
   "id": "17933f07",
   "metadata": {},
   "outputs": [
    {
     "name": "stdout",
     "output_type": "stream",
     "text": [
      "Available genres:\n",
      "=================\n",
      "1. Animation\n",
      "2. Children's\n",
      "3. Comedy\n",
      "4. Adventure\n",
      "5. Fantasy\n",
      "6. Romance\n",
      "7. Drama\n",
      "8. Action\n",
      "9. Crime\n",
      "10. Thriller\n",
      "11. Horror\n",
      "12. Sci-Fi\n",
      "13. Documentary\n",
      "14. War\n",
      "15. Musical\n",
      "16. Mystery\n",
      "17. Film-Noir\n",
      "18. Western\n"
     ]
    },
    {
     "name": "stdin",
     "output_type": "stream",
     "text": [
      "Enter the number corresponding to your preferred genre:  11\n"
     ]
    },
    {
     "name": "stdout",
     "output_type": "stream",
     "text": [
      "--------------------------\n",
      "You selected: Horror\n",
      "--------------------------\n"
     ]
    },
    {
     "name": "stdin",
     "output_type": "stream",
     "text": [
      "Enter the minimum review: 200\n"
     ]
    },
    {
     "name": "stdout",
     "output_type": "stream",
     "text": [
      "--------------------------\n"
     ]
    },
    {
     "name": "stdin",
     "output_type": "stream",
     "text": [
      "Enter the number of Recommendations: 5\n"
     ]
    },
    {
     "name": "stdout",
     "output_type": "stream",
     "text": [
      "--------------------------\n"
     ]
    },
    {
     "data": {
      "text/html": [
       "<div>\n",
       "<style scoped>\n",
       "    .dataframe tbody tr th:only-of-type {\n",
       "        vertical-align: middle;\n",
       "    }\n",
       "\n",
       "    .dataframe tbody tr th {\n",
       "        vertical-align: top;\n",
       "    }\n",
       "\n",
       "    .dataframe thead th {\n",
       "        text-align: right;\n",
       "    }\n",
       "</style>\n",
       "<table border=\"1\" class=\"dataframe\">\n",
       "  <thead>\n",
       "    <tr style=\"text-align: right;\">\n",
       "      <th></th>\n",
       "      <th>title</th>\n",
       "      <th>average_rating</th>\n",
       "      <th>rating_count</th>\n",
       "    </tr>\n",
       "  </thead>\n",
       "  <tbody>\n",
       "    <tr>\n",
       "      <th>0</th>\n",
       "      <td>Young Frankenstein (1974)</td>\n",
       "      <td>4.250629</td>\n",
       "      <td>1193</td>\n",
       "    </tr>\n",
       "    <tr>\n",
       "      <th>1</th>\n",
       "      <td>Psycho (1960)</td>\n",
       "      <td>4.218527</td>\n",
       "      <td>1263</td>\n",
       "    </tr>\n",
       "    <tr>\n",
       "      <th>2</th>\n",
       "      <td>Alien (1979)</td>\n",
       "      <td>4.159585</td>\n",
       "      <td>2024</td>\n",
       "    </tr>\n",
       "    <tr>\n",
       "      <th>3</th>\n",
       "      <td>Shining, The (1980)</td>\n",
       "      <td>4.104876</td>\n",
       "      <td>1087</td>\n",
       "    </tr>\n",
       "    <tr>\n",
       "      <th>4</th>\n",
       "      <td>Jaws (1975)</td>\n",
       "      <td>4.089570</td>\n",
       "      <td>1697</td>\n",
       "    </tr>\n",
       "  </tbody>\n",
       "</table>\n",
       "</div>"
      ],
      "text/plain": [
       "                       title  average_rating  rating_count\n",
       "0  Young Frankenstein (1974)        4.250629          1193\n",
       "1              Psycho (1960)        4.218527          1263\n",
       "2               Alien (1979)        4.159585          2024\n",
       "3        Shining, The (1980)        4.104876          1087\n",
       "4                Jaws (1975)        4.089570          1697"
      ]
     },
     "metadata": {},
     "output_type": "display_data"
    }
   ],
   "source": [
    "print(\"Available genres:\")\n",
    "print('=================')\n",
    "for i, genre in enumerate(unique_genres,1):\n",
    "    print(f\"{i}. {genre}\")\n",
    "\n",
    "    #Function to filter by Genre\n",
    "def filter_by_genre(df, genre):\n",
    "    return df[df['genres'].str.contains(genre, case=False, na=False)]\n",
    "\n",
    "#Function to calculate Average ratings and count of ratings\n",
    "def calculate_popularity(df):\n",
    "    # Group by movieId and calculate average rating and count of ratings\n",
    "    popularity = df.groupby('movieId').agg({'rating': ['mean', 'count']})\n",
    "    # Rename columns\n",
    "    popularity.columns = ['average_rating', 'rating_count']\n",
    "    return popularity\n",
    "\n",
    "#Function to filter by minimum reviews threshold\n",
    "def filter_by_threshold(df, threshold):\n",
    "    return df[df['rating_count'] >= threshold]\n",
    "\n",
    "#Function to get Top N Recommendations\n",
    "def get_top_n_recommendations(df, n):\n",
    "    return df.sort_values(by='average_rating', ascending=False).head(n)\n",
    "\n",
    "#Function to Recommend:\n",
    "def recommend_movies(genre, min_reviews, num_recommendations):\n",
    "    # Filter movies by genre\n",
    "    genre_movies = filter_by_genre(df, genre)\n",
    "    # Calculate popularity metrics\n",
    "    popularity = calculate_popularity(genre_movies)\n",
    "    # Filter by minimum reviews threshold\n",
    "    filtered_popularity = filter_by_threshold(popularity, min_reviews)\n",
    "    # Get top N recommendations\n",
    "    top_n = get_top_n_recommendations(filtered_popularity, num_recommendations)\n",
    "    # Merge with movie titles\n",
    "    top_n = top_n.merge(movie[['movieId', 'title']], on='movieId')\n",
    "    return top_n[['title', 'average_rating', 'rating_count']]\n",
    "\n",
    "genre_choice = int(input(\"Enter the number corresponding to your preferred genre: \"))\n",
    "selected_genre = unique_genres[genre_choice - 1]\n",
    "print('--------------------------')\n",
    "print(f\"You selected: {selected_genre}\")\n",
    "print('--------------------------')\n",
    "min_reviews = int(input('Enter the minimum review:'))\n",
    "print('--------------------------')\n",
    "num_recommendations = int(input('Enter the number of Recommendations:'))\n",
    "print('--------------------------')\n",
    "recommendations=recommend_movies(selected_genre,min_reviews,num_recommendations)\n",
    "display(recommendations)"
   ]
  },
  {
   "cell_type": "markdown",
   "id": "c5bdb4d1",
   "metadata": {},
   "source": [
    "### <center><span style=\"color:green;\">Content Based Recommendation System</span></center>"
   ]
  },
  {
   "cell_type": "code",
   "execution_count": 36,
   "id": "78625857",
   "metadata": {},
   "outputs": [],
   "source": [
    "from sklearn.metrics.pairwise import cosine_similarity\n",
    "from sklearn.feature_extraction.text import CountVectorizer\n",
    "\n",
    "df_crs = movie.iloc[:,1:]\n",
    "\n",
    "# Create a count matrix\n",
    "count_vectorizer = CountVectorizer(tokenizer=lambda x: x.split('|'))\n",
    "count_matrix = count_vectorizer.fit_transform(df_crs['genres'])\n",
    "\n",
    "# Compute the cosine similarity matrix\n",
    "cosine_sim = cosine_similarity(count_matrix,count_matrix)\n",
    "\n",
    "def get_recommendations(title, N):\n",
    "    # Get the index of the movie that matches the title\n",
    "    idx = df_crs[df_crs['title'] == title].index[0]\n",
    "\n",
    "    # Get the pairwise similarity scores of all movies with that movie\n",
    "    sim_scores = list(enumerate(cosine_sim[idx]))\n",
    "\n",
    "    # Sort the movies based on the similarity scores\n",
    "    sim_scores = sorted(sim_scores, key=lambda x: x[1], reverse=True)\n",
    "\n",
    "    # Get the scores of the top N most similar movies\n",
    "    sim_scores = sim_scores[1:N+1]\n",
    "\n",
    "    # Get the movie indices\n",
    "    movie_indices = [i[0] for i in sim_scores]\n",
    "\n",
    "    # Return the top N most similar movies\n",
    "    return df_crs['title'].iloc[movie_indices]"
   ]
  },
  {
   "cell_type": "code",
   "execution_count": 38,
   "id": "11b1d5eb-84b7-4595-816b-a30661489abb",
   "metadata": {},
   "outputs": [
    {
     "name": "stdin",
     "output_type": "stream",
     "text": [
      "Your Search:  Horror Express\n"
     ]
    },
    {
     "name": "stdout",
     "output_type": "stream",
     "text": [
      "====================================================================================\n",
      "Results:\n"
     ]
    },
    {
     "data": {
      "text/html": [
       "<div>\n",
       "<style scoped>\n",
       "    .dataframe tbody tr th:only-of-type {\n",
       "        vertical-align: middle;\n",
       "    }\n",
       "\n",
       "    .dataframe tbody tr th {\n",
       "        vertical-align: top;\n",
       "    }\n",
       "\n",
       "    .dataframe thead th {\n",
       "        text-align: right;\n",
       "    }\n",
       "</style>\n",
       "<table border=\"1\" class=\"dataframe\">\n",
       "  <thead>\n",
       "    <tr style=\"text-align: right;\">\n",
       "      <th></th>\n",
       "      <th>Title</th>\n",
       "    </tr>\n",
       "  </thead>\n",
       "  <tbody>\n",
       "    <tr>\n",
       "      <th>3257</th>\n",
       "      <td>Horror Express (1972)</td>\n",
       "    </tr>\n",
       "  </tbody>\n",
       "</table>\n",
       "</div>"
      ],
      "text/plain": [
       "                      Title\n",
       "3257  Horror Express (1972)"
      ]
     },
     "metadata": {},
     "output_type": "display_data"
    },
    {
     "name": "stdout",
     "output_type": "stream",
     "text": [
      "----------------------------------------------------------------------------------------\n"
     ]
    },
    {
     "name": "stdin",
     "output_type": "stream",
     "text": [
      "Now, search for Similiar movies by copying from results:  Horror Express\n"
     ]
    },
    {
     "name": "stdout",
     "output_type": "stream",
     "text": [
      "----------------------------------------------------------------------------------------\n"
     ]
    },
    {
     "name": "stdin",
     "output_type": "stream",
     "text": [
      "Number of Recommendations you want:  c0\n"
     ]
    },
    {
     "ename": "ValueError",
     "evalue": "invalid literal for int() with base 10: 'c0'",
     "output_type": "error",
     "traceback": [
      "\u001b[1;31m---------------------------------------------------------------------------\u001b[0m",
      "\u001b[1;31mValueError\u001b[0m                                Traceback (most recent call last)",
      "Cell \u001b[1;32mIn[38], line 17\u001b[0m\n\u001b[0;32m     15\u001b[0m movie_title \u001b[38;5;241m=\u001b[39m \u001b[38;5;28minput\u001b[39m(\u001b[38;5;124m\"\u001b[39m\u001b[38;5;124mNow, search for Similiar movies by copying from results: \u001b[39m\u001b[38;5;124m\"\u001b[39m)\n\u001b[0;32m     16\u001b[0m \u001b[38;5;28mprint\u001b[39m(\u001b[38;5;124m\"\u001b[39m\u001b[38;5;124m----------------------------------------------------------------------------------------\u001b[39m\u001b[38;5;124m\"\u001b[39m)\n\u001b[1;32m---> 17\u001b[0m num_recom \u001b[38;5;241m=\u001b[39m \u001b[38;5;28;43mint\u001b[39;49m\u001b[43m(\u001b[49m\u001b[38;5;28;43minput\u001b[39;49m\u001b[43m(\u001b[49m\u001b[38;5;124;43m'\u001b[39;49m\u001b[38;5;124;43mNumber of Recommendations you want: \u001b[39;49m\u001b[38;5;124;43m'\u001b[39;49m\u001b[43m)\u001b[49m\u001b[43m)\u001b[49m\n\u001b[0;32m     18\u001b[0m recommended_movies \u001b[38;5;241m=\u001b[39m get_recommendations(movie_title, num_recom)\n\u001b[0;32m     19\u001b[0m \u001b[38;5;28mprint\u001b[39m(\u001b[38;5;124m\"\u001b[39m\u001b[38;5;124m========================================================================================\u001b[39m\u001b[38;5;124m\"\u001b[39m)\n",
      "\u001b[1;31mValueError\u001b[0m: invalid literal for int() with base 10: 'c0'"
     ]
    }
   ],
   "source": [
    "title_df = pd.DataFrame(data= df['title'].unique(),columns=['Title'])\n",
    "while True:\n",
    "    name_like = input('Your Search: ')\n",
    "    print(\"====================================================================================\")\n",
    "    filtered_df = title_df[title_df['Title'].str.startswith(name_like)]\n",
    "    \n",
    "    if not filtered_df.empty:\n",
    "        print('Results:')\n",
    "        display(filtered_df)\n",
    "        break\n",
    "    else:\n",
    "        print(\"\"\"Movies not Found!\n",
    "Because your search is case sensitive. So, Take a look at your Search\"\"\")\n",
    "print(\"----------------------------------------------------------------------------------------\")\n",
    "movie_title = input(\"Now, search for Similiar movies by copying from results: \")\n",
    "print(\"----------------------------------------------------------------------------------------\")\n",
    "num_recom = int(input('Number of Recommendations you want: '))\n",
    "recommended_movies = get_recommendations(movie_title, num_recom)\n",
    "print(\"========================================================================================\")\n",
    "print(f\"Similiar {num_recom} movies of {movie_title}\")\n",
    "display(recommended_movies)"
   ]
  },
  {
   "cell_type": "markdown",
   "id": "9eeed357",
   "metadata": {},
   "source": [
    "### <center><span style=\"color:green;\">Collaborative Based Recommendation System</span></center>"
   ]
  },
  {
   "cell_type": "code",
   "execution_count": 40,
   "id": "16c7710b",
   "metadata": {},
   "outputs": [],
   "source": [
    "user_item_matrix = rating.pivot(index='user_id', columns='movieId', values='rating').fillna(0)\n",
    "#user_item_matrix"
   ]
  },
  {
   "cell_type": "code",
   "execution_count": 41,
   "id": "7c98ca0f",
   "metadata": {},
   "outputs": [],
   "source": [
    "from sklearn.metrics.pairwise import cosine_similarity\n",
    "from sklearn.neighbors import NearestNeighbors\n",
    "def find_similar_users(user_id, k=100):\n",
    "    user_vector = user_item_matrix.loc[user_id].values.reshape(1, -1)\n",
    "    knn = NearestNeighbors(n_neighbors=k, metric='cosine')\n",
    "    knn.fit(user_item_matrix)\n",
    "    distances, indices = knn.kneighbors(user_vector)\n",
    "    similar_users = user_item_matrix.index[indices.flatten()].tolist()\n",
    "    return similar_users"
   ]
  },
  {
   "cell_type": "code",
   "execution_count": 42,
   "id": "f4026024",
   "metadata": {},
   "outputs": [
    {
     "name": "stdin",
     "output_type": "stream",
     "text": [
      "Enter userid between 1 and 668:  25\n",
      "Enter number of Recommendations you want:  5\n"
     ]
    },
    {
     "name": "stdout",
     "output_type": "stream",
     "text": [
      "================================================================================\n",
      "Recommended movies for UserId 25 are\n"
     ]
    },
    {
     "data": {
      "text/html": [
       "<div>\n",
       "<style scoped>\n",
       "    .dataframe tbody tr th:only-of-type {\n",
       "        vertical-align: middle;\n",
       "    }\n",
       "\n",
       "    .dataframe tbody tr th {\n",
       "        vertical-align: top;\n",
       "    }\n",
       "\n",
       "    .dataframe thead th {\n",
       "        text-align: right;\n",
       "    }\n",
       "</style>\n",
       "<table border=\"1\" class=\"dataframe\">\n",
       "  <thead>\n",
       "    <tr style=\"text-align: right;\">\n",
       "      <th></th>\n",
       "      <th>title</th>\n",
       "    </tr>\n",
       "  </thead>\n",
       "  <tbody>\n",
       "    <tr>\n",
       "      <th>589</th>\n",
       "      <td>Silence of the Lambs, The (1991)</td>\n",
       "    </tr>\n",
       "    <tr>\n",
       "      <th>1240</th>\n",
       "      <td>M (1931)</td>\n",
       "    </tr>\n",
       "    <tr>\n",
       "      <th>2916</th>\n",
       "      <td>Robocop (1987)</td>\n",
       "    </tr>\n",
       "    <tr>\n",
       "      <th>316</th>\n",
       "      <td>Shallow Grave (1994)</td>\n",
       "    </tr>\n",
       "    <tr>\n",
       "      <th>1527</th>\n",
       "      <td>Last Time I Committed Suicide, The (1997)</td>\n",
       "    </tr>\n",
       "  </tbody>\n",
       "</table>\n",
       "</div>"
      ],
      "text/plain": [
       "                                          title\n",
       "589            Silence of the Lambs, The (1991)\n",
       "1240                                   M (1931)\n",
       "2916                             Robocop (1987)\n",
       "316                        Shallow Grave (1994)\n",
       "1527  Last Time I Committed Suicide, The (1997)"
      ]
     },
     "metadata": {},
     "output_type": "display_data"
    }
   ],
   "source": [
    "def recommend_movies(user_id, n=5, k=100):\n",
    "    similar_users = find_similar_users(user_id, k)\n",
    "    similar_users_ratings = user_item_matrix.loc[similar_users].mean(axis=0)\n",
    "    user_ratings = user_item_matrix.loc[user_id]\n",
    "    recommendations = similar_users_ratings[user_ratings == 0].sort_values(ascending=False).head(n)\n",
    "    return recommendations.index.tolist()\n",
    "\n",
    "# Inputs for the recommender\n",
    "user_id = int(input('Enter userid between 1 and 668: '))\n",
    "num_recommendations = int(input('Enter number of Recommendations you want: '))\n",
    "threshold_similar_users = 100\n",
    "\n",
    "recommended_movies = recommend_movies(user_id, num_recommendations, threshold_similar_users)\n",
    "recommended_movie = pd.DataFrame(movie.loc[recommended_movies,'title'])\n",
    "print(\"================================================================================\")\n",
    "print(f\"Recommended movies for UserId {user_id} are\")\n",
    "display(recommended_movie)"
   ]
  },
  {
   "cell_type": "code",
   "execution_count": null,
   "id": "5619cf5d",
   "metadata": {},
   "outputs": [],
   "source": []
  },
  {
   "cell_type": "code",
   "execution_count": null,
   "id": "8c672d57-6367-4e2c-b374-675000e51944",
   "metadata": {},
   "outputs": [],
   "source": []
  }
 ],
 "metadata": {
  "kernelspec": {
   "display_name": "Python 3 (ipykernel)",
   "language": "python",
   "name": "python3"
  },
  "language_info": {
   "codemirror_mode": {
    "name": "ipython",
    "version": 3
   },
   "file_extension": ".py",
   "mimetype": "text/x-python",
   "name": "python",
   "nbconvert_exporter": "python",
   "pygments_lexer": "ipython3",
   "version": "3.12.3"
  }
 },
 "nbformat": 4,
 "nbformat_minor": 5
}
